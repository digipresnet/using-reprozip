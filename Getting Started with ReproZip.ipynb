{
 "cells": [
  {
   "cell_type": "code",
   "execution_count": 20,
   "metadata": {},
   "outputs": [
    {
     "name": "stdout",
     "output_type": "stream",
     "text": [
      "Requirement already up-to-date: reprozip in /srv/conda/envs/notebook/lib/python3.7/site-packages (1.0.16)\n",
      "Collecting reprounzip\n",
      "  Downloading reprounzip-1.0.16-py2.py3-none-any.whl (64 kB)\n",
      "\u001b[K     |████████████████████████████████| 64 kB 924 kB/s eta 0:00:01\n",
      "\u001b[?25hRequirement already satisfied, skipping upgrade: requests in /srv/conda/envs/notebook/lib/python3.7/site-packages (from reprozip) (2.22.0)\n",
      "Requirement already satisfied, skipping upgrade: distro in /srv/conda/envs/notebook/lib/python3.7/site-packages (from reprozip) (1.5.0)\n",
      "Requirement already satisfied, skipping upgrade: PyYAML in /srv/conda/envs/notebook/lib/python3.7/site-packages (from reprozip) (5.3.1)\n",
      "Requirement already satisfied, skipping upgrade: rpaths>=0.8 in /srv/conda/envs/notebook/lib/python3.7/site-packages (from reprozip) (0.13)\n",
      "Requirement already satisfied, skipping upgrade: usagestats>=0.3 in /srv/conda/envs/notebook/lib/python3.7/site-packages (from reprozip) (1.0)\n",
      "Requirement already satisfied, skipping upgrade: certifi>=2017.4.17 in /srv/conda/envs/notebook/lib/python3.7/site-packages (from requests->reprozip) (2019.11.28)\n",
      "Requirement already satisfied, skipping upgrade: urllib3!=1.25.0,!=1.25.1,<1.26,>=1.21.1 in /srv/conda/envs/notebook/lib/python3.7/site-packages (from requests->reprozip) (1.25.7)\n",
      "Requirement already satisfied, skipping upgrade: chardet<3.1.0,>=3.0.2 in /srv/conda/envs/notebook/lib/python3.7/site-packages (from requests->reprozip) (3.0.4)\n",
      "Requirement already satisfied, skipping upgrade: idna<2.9,>=2.5 in /srv/conda/envs/notebook/lib/python3.7/site-packages (from requests->reprozip) (2.8)\n",
      "Installing collected packages: reprounzip\n",
      "Successfully installed reprounzip-1.0.16\n"
     ]
    }
   ],
   "source": [
    "!python -m pip install -U reprozip reprounzip"
   ]
  },
  {
   "cell_type": "code",
   "execution_count": 34,
   "metadata": {},
   "outputs": [
    {
     "name": "stdout",
     "output_type": "stream",
     "text": [
      "total 3416\n",
      "-rw-r--r-- 1 andy andy   22215 Nov  2 12:38 Getting Started with ReproZip.ipynb\n",
      "-rw-r--r-- 1 andy andy   21450 Nov  2 12:39 lorem-ipsum.pdf\n",
      "-rw-r--r-- 1 andy andy 1720320 Nov  2 12:15 ls.rpz\n",
      "-rw-r--r-- 1 andy andy    1641 Nov  2 12:17 out.dot\n",
      "-rw-r--r-- 1 andy andy      17 Nov  2 12:02 requirements.txt\n",
      "-rw-r--r-- 1 andy andy 1720320 Nov  2 12:13 test.rpz\n"
     ]
    },
    {
     "name": "stderr",
     "output_type": "stream",
     "text": [
      "  % Total    % Received % Xferd  Average Speed   Time    Time     Time  Current\n",
      "                                 Dload  Upload   Total   Spent    Left  Speed\n",
      "100   187  100   187    0     0    413      0 --:--:-- --:--:-- --:--:--   413\n",
      "100 21450  100 21450    0     0  21710      0 --:--:-- --:--:-- --:--:-- 21710\n",
      "convert-im6.q16: not authorized `lorem-ipsum.pdf' @ error/constitute.c/ReadImage/412.\n",
      "convert-im6.q16: no images defined `lorem-ipsum-%0d.png' @ error/convert.c/ConvertImageCommand/3258.\n"
     ]
    },
    {
     "ename": "CalledProcessError",
     "evalue": "Command 'b'ls -l\\ncurl -O -L https://github.com/openpreserve/format-corpus/raw/master/variations/variations/application/pdf/lorem-ipsum.pdf\\nconvert lorem-ipsum.pdf lorem-ipsum-%0d.png\\n'' returned non-zero exit status 1.",
     "output_type": "error",
     "traceback": [
      "\u001b[0;31m---------------------------------------------------------------------------\u001b[0m",
      "\u001b[0;31mCalledProcessError\u001b[0m                        Traceback (most recent call last)",
      "\u001b[0;32m<ipython-input-34-0c8b4dc548f1>\u001b[0m in \u001b[0;36m<module>\u001b[0;34m\u001b[0m\n\u001b[0;32m----> 1\u001b[0;31m \u001b[0mget_ipython\u001b[0m\u001b[0;34m(\u001b[0m\u001b[0;34m)\u001b[0m\u001b[0;34m.\u001b[0m\u001b[0mrun_cell_magic\u001b[0m\u001b[0;34m(\u001b[0m\u001b[0;34m'bash'\u001b[0m\u001b[0;34m,\u001b[0m \u001b[0;34m''\u001b[0m\u001b[0;34m,\u001b[0m \u001b[0;34m'ls -l\\ncurl -O -L https://github.com/openpreserve/format-corpus/raw/master/variations/variations/application/pdf/lorem-ipsum.pdf\\nconvert lorem-ipsum.pdf lorem-ipsum-%0d.png\\n'\u001b[0m\u001b[0;34m)\u001b[0m\u001b[0;34m\u001b[0m\u001b[0;34m\u001b[0m\u001b[0m\n\u001b[0m",
      "\u001b[0;32m/srv/conda/envs/notebook/lib/python3.7/site-packages/IPython/core/interactiveshell.py\u001b[0m in \u001b[0;36mrun_cell_magic\u001b[0;34m(self, magic_name, line, cell)\u001b[0m\n\u001b[1;32m   2350\u001b[0m             \u001b[0;32mwith\u001b[0m \u001b[0mself\u001b[0m\u001b[0;34m.\u001b[0m\u001b[0mbuiltin_trap\u001b[0m\u001b[0;34m:\u001b[0m\u001b[0;34m\u001b[0m\u001b[0;34m\u001b[0m\u001b[0m\n\u001b[1;32m   2351\u001b[0m                 \u001b[0margs\u001b[0m \u001b[0;34m=\u001b[0m \u001b[0;34m(\u001b[0m\u001b[0mmagic_arg_s\u001b[0m\u001b[0;34m,\u001b[0m \u001b[0mcell\u001b[0m\u001b[0;34m)\u001b[0m\u001b[0;34m\u001b[0m\u001b[0;34m\u001b[0m\u001b[0m\n\u001b[0;32m-> 2352\u001b[0;31m                 \u001b[0mresult\u001b[0m \u001b[0;34m=\u001b[0m \u001b[0mfn\u001b[0m\u001b[0;34m(\u001b[0m\u001b[0;34m*\u001b[0m\u001b[0margs\u001b[0m\u001b[0;34m,\u001b[0m \u001b[0;34m**\u001b[0m\u001b[0mkwargs\u001b[0m\u001b[0;34m)\u001b[0m\u001b[0;34m\u001b[0m\u001b[0;34m\u001b[0m\u001b[0m\n\u001b[0m\u001b[1;32m   2353\u001b[0m             \u001b[0;32mreturn\u001b[0m \u001b[0mresult\u001b[0m\u001b[0;34m\u001b[0m\u001b[0;34m\u001b[0m\u001b[0m\n\u001b[1;32m   2354\u001b[0m \u001b[0;34m\u001b[0m\u001b[0m\n",
      "\u001b[0;32m/srv/conda/envs/notebook/lib/python3.7/site-packages/IPython/core/magics/script.py\u001b[0m in \u001b[0;36mnamed_script_magic\u001b[0;34m(line, cell)\u001b[0m\n\u001b[1;32m    140\u001b[0m             \u001b[0;32melse\u001b[0m\u001b[0;34m:\u001b[0m\u001b[0;34m\u001b[0m\u001b[0;34m\u001b[0m\u001b[0m\n\u001b[1;32m    141\u001b[0m                 \u001b[0mline\u001b[0m \u001b[0;34m=\u001b[0m \u001b[0mscript\u001b[0m\u001b[0;34m\u001b[0m\u001b[0;34m\u001b[0m\u001b[0m\n\u001b[0;32m--> 142\u001b[0;31m             \u001b[0;32mreturn\u001b[0m \u001b[0mself\u001b[0m\u001b[0;34m.\u001b[0m\u001b[0mshebang\u001b[0m\u001b[0;34m(\u001b[0m\u001b[0mline\u001b[0m\u001b[0;34m,\u001b[0m \u001b[0mcell\u001b[0m\u001b[0;34m)\u001b[0m\u001b[0;34m\u001b[0m\u001b[0;34m\u001b[0m\u001b[0m\n\u001b[0m\u001b[1;32m    143\u001b[0m \u001b[0;34m\u001b[0m\u001b[0m\n\u001b[1;32m    144\u001b[0m         \u001b[0;31m# write a basic docstring:\u001b[0m\u001b[0;34m\u001b[0m\u001b[0;34m\u001b[0m\u001b[0;34m\u001b[0m\u001b[0m\n",
      "\u001b[0;32m</srv/conda/envs/notebook/lib/python3.7/site-packages/decorator.py:decorator-gen-110>\u001b[0m in \u001b[0;36mshebang\u001b[0;34m(self, line, cell)\u001b[0m\n",
      "\u001b[0;32m/srv/conda/envs/notebook/lib/python3.7/site-packages/IPython/core/magic.py\u001b[0m in \u001b[0;36m<lambda>\u001b[0;34m(f, *a, **k)\u001b[0m\n\u001b[1;32m    185\u001b[0m     \u001b[0;31m# but it's overkill for just that one bit of state.\u001b[0m\u001b[0;34m\u001b[0m\u001b[0;34m\u001b[0m\u001b[0;34m\u001b[0m\u001b[0m\n\u001b[1;32m    186\u001b[0m     \u001b[0;32mdef\u001b[0m \u001b[0mmagic_deco\u001b[0m\u001b[0;34m(\u001b[0m\u001b[0marg\u001b[0m\u001b[0;34m)\u001b[0m\u001b[0;34m:\u001b[0m\u001b[0;34m\u001b[0m\u001b[0;34m\u001b[0m\u001b[0m\n\u001b[0;32m--> 187\u001b[0;31m         \u001b[0mcall\u001b[0m \u001b[0;34m=\u001b[0m \u001b[0;32mlambda\u001b[0m \u001b[0mf\u001b[0m\u001b[0;34m,\u001b[0m \u001b[0;34m*\u001b[0m\u001b[0ma\u001b[0m\u001b[0;34m,\u001b[0m \u001b[0;34m**\u001b[0m\u001b[0mk\u001b[0m\u001b[0;34m:\u001b[0m \u001b[0mf\u001b[0m\u001b[0;34m(\u001b[0m\u001b[0;34m*\u001b[0m\u001b[0ma\u001b[0m\u001b[0;34m,\u001b[0m \u001b[0;34m**\u001b[0m\u001b[0mk\u001b[0m\u001b[0;34m)\u001b[0m\u001b[0;34m\u001b[0m\u001b[0;34m\u001b[0m\u001b[0m\n\u001b[0m\u001b[1;32m    188\u001b[0m \u001b[0;34m\u001b[0m\u001b[0m\n\u001b[1;32m    189\u001b[0m         \u001b[0;32mif\u001b[0m \u001b[0mcallable\u001b[0m\u001b[0;34m(\u001b[0m\u001b[0marg\u001b[0m\u001b[0;34m)\u001b[0m\u001b[0;34m:\u001b[0m\u001b[0;34m\u001b[0m\u001b[0;34m\u001b[0m\u001b[0m\n",
      "\u001b[0;32m/srv/conda/envs/notebook/lib/python3.7/site-packages/IPython/core/magics/script.py\u001b[0m in \u001b[0;36mshebang\u001b[0;34m(self, line, cell)\u001b[0m\n\u001b[1;32m    243\u001b[0m             \u001b[0msys\u001b[0m\u001b[0;34m.\u001b[0m\u001b[0mstderr\u001b[0m\u001b[0;34m.\u001b[0m\u001b[0mflush\u001b[0m\u001b[0;34m(\u001b[0m\u001b[0;34m)\u001b[0m\u001b[0;34m\u001b[0m\u001b[0;34m\u001b[0m\u001b[0m\n\u001b[1;32m    244\u001b[0m         \u001b[0;32mif\u001b[0m \u001b[0margs\u001b[0m\u001b[0;34m.\u001b[0m\u001b[0mraise_error\u001b[0m \u001b[0;32mand\u001b[0m \u001b[0mp\u001b[0m\u001b[0;34m.\u001b[0m\u001b[0mreturncode\u001b[0m\u001b[0;34m!=\u001b[0m\u001b[0;36m0\u001b[0m\u001b[0;34m:\u001b[0m\u001b[0;34m\u001b[0m\u001b[0;34m\u001b[0m\u001b[0m\n\u001b[0;32m--> 245\u001b[0;31m             \u001b[0;32mraise\u001b[0m \u001b[0mCalledProcessError\u001b[0m\u001b[0;34m(\u001b[0m\u001b[0mp\u001b[0m\u001b[0;34m.\u001b[0m\u001b[0mreturncode\u001b[0m\u001b[0;34m,\u001b[0m \u001b[0mcell\u001b[0m\u001b[0;34m,\u001b[0m \u001b[0moutput\u001b[0m\u001b[0;34m=\u001b[0m\u001b[0mout\u001b[0m\u001b[0;34m,\u001b[0m \u001b[0mstderr\u001b[0m\u001b[0;34m=\u001b[0m\u001b[0merr\u001b[0m\u001b[0;34m)\u001b[0m\u001b[0;34m\u001b[0m\u001b[0;34m\u001b[0m\u001b[0m\n\u001b[0m\u001b[1;32m    246\u001b[0m \u001b[0;34m\u001b[0m\u001b[0m\n\u001b[1;32m    247\u001b[0m     \u001b[0;32mdef\u001b[0m \u001b[0m_run_script\u001b[0m\u001b[0;34m(\u001b[0m\u001b[0mself\u001b[0m\u001b[0;34m,\u001b[0m \u001b[0mp\u001b[0m\u001b[0;34m,\u001b[0m \u001b[0mcell\u001b[0m\u001b[0;34m,\u001b[0m \u001b[0mto_close\u001b[0m\u001b[0;34m)\u001b[0m\u001b[0;34m:\u001b[0m\u001b[0;34m\u001b[0m\u001b[0;34m\u001b[0m\u001b[0m\n",
      "\u001b[0;31mCalledProcessError\u001b[0m: Command 'b'ls -l\\ncurl -O -L https://github.com/openpreserve/format-corpus/raw/master/variations/variations/application/pdf/lorem-ipsum.pdf\\nconvert lorem-ipsum.pdf lorem-ipsum-%0d.png\\n'' returned non-zero exit status 1."
     ]
    }
   ],
   "source": [
    "%%bash\n",
    "ls -l\n",
    "curl -O -L https://github.com/openpreserve/format-corpus/raw/master/variations/variations/application/pdf/lorem-ipsum.pdf\n",
    "convert lorem-ipsum.pdf lorem-ipsum-%0d.png"
   ]
  },
  {
   "cell_type": "code",
   "execution_count": 11,
   "metadata": {},
   "outputs": [
    {
     "name": "stdout",
     "output_type": "stream",
     "text": [
      "Thank you, usage reports will be sent automatically from now on.\r\n"
     ]
    }
   ],
   "source": [
    "!reprozip usage_report --enable"
   ]
  },
  {
   "cell_type": "code",
   "execution_count": 14,
   "metadata": {},
   "outputs": [
    {
     "name": "stdout",
     "output_type": "stream",
     "text": [
      "requirements.txt  test.rpz  Untitled.ipynb\n",
      "Configuration file written in .reprozip-trace/config.yml\n",
      "Edit that file then run the packer -- use 'reprozip pack -h' for help\n"
     ]
    }
   ],
   "source": [
    "!reprozip trace --overwrite convert"
   ]
  },
  {
   "cell_type": "code",
   "execution_count": 15,
   "metadata": {},
   "outputs": [
    {
     "name": "stdout",
     "output_type": "stream",
     "text": [
      "# ReproZip configuration file\r\n",
      "# This file was generated by reprozip 1.0.16 at 2020-11-02T12:14:41+00:00\r\n",
      "\r\n",
      "# You might want to edit this file before running the packer\r\n",
      "# See 'reprozip pack -h' for help\r\n",
      "\r\n",
      "# Run info\r\n",
      "version: \"0.8\"\r\n",
      "runs:\r\n",
      "# Run 0\r\n",
      "- architecture: x86_64\r\n",
      "  argv:\r\n",
      "  - ls\r\n",
      "  binary: /bin/ls\r\n",
      "  distribution:\r\n",
      "  - ubuntu\r\n",
      "  - '18.04'\r\n",
      "  environ:\r\n",
      "    APP_BASE: /srv\r\n",
      "    CLICOLOR: '1'\r\n",
      "    CONDA_DEFAULT_ENV: notebook\r\n",
      "    CONDA_DIR: /srv/conda\r\n",
      "    CONDA_EXE: /srv/conda/bin/conda\r\n",
      "    CONDA_PREFIX: /srv/conda/envs/notebook\r\n",
      "    CONDA_PROMPT_MODIFIER: '(notebook) '\r\n",
      "    CONDA_PYTHON_EXE: /srv/conda/bin/python\r\n",
      "    CONDA_SHLVL: '1'\r\n",
      "    DEBIAN_FRONTEND: noninteractive\r\n",
      "    GIT_PAGER: cat\r\n",
      "    HOME: /home/andy\r\n",
      "    HOSTNAME: 5b9a448eaf37\r\n",
      "    JPY_PARENT_PID: '1'\r\n",
      "    KERNEL_LAUNCH_TIMEOUT: '40'\r\n",
      "    KERNEL_PYTHON_PREFIX: /srv/conda/envs/notebook\r\n",
      "    LANG: en_US.UTF-8\r\n",
      "    LANGUAGE: en_US.UTF-8\r\n",
      "    LC_ALL: en_US.UTF-8\r\n",
      "    MPLBACKEND: module://ipykernel.pylab.backend_inline\r\n",
      "    NB_PYTHON_PREFIX: /srv/conda/envs/notebook\r\n",
      "    NPM_CONFIG_GLOBALCONFIG: /srv/npm/npmrc\r\n",
      "    NPM_DIR: /srv/npm\r\n",
      "    PAGER: cat\r\n",
      "    PATH: /srv/conda/envs/notebook/bin:/srv/conda/condabin:/home/andy/.local/bin:/home/andy/.local/bin:/srv/conda/envs/notebook/bin:/srv/conda/bin:/srv/npm/bin:/usr/local/sbin:/usr/local/bin:/usr/sbin:/usr/bin:/sbin:/bin\r\n",
      "    PWD: /home/andy\r\n",
      "    REPO_DIR: /home/andy\r\n",
      "    SHELL: /bin/bash\r\n",
      "    SHLVL: '0'\r\n",
      "    TERM: xterm-color\r\n",
      "    USER: andy\r\n",
      "    _CE_CONDA: ''\r\n",
      "    _CE_M: ''\r\n",
      "  exitcode: 0\r\n",
      "  gid: 501\r\n",
      "  hostname: 5b9a448eaf37\r\n",
      "  id: run0\r\n",
      "  system:\r\n",
      "  - Linux\r\n",
      "  - 4.19.76-linuxkit\r\n",
      "  uid: 501\r\n",
      "  workingdir: /home/andy\r\n",
      "\r\n",
      "# Input and output files\r\n",
      "\r\n",
      "# Inputs are files that are only read by a run; reprounzip can replace these\r\n",
      "# files on demand to run the experiment with custom data.\r\n",
      "# Outputs are files that are generated by a run; reprounzip can extract these\r\n",
      "# files from the experiment on demand, for the user to examine.\r\n",
      "# The name field is the identifier the user will use to access these files.\r\n",
      "inputs_outputs:\r\n",
      "\r\n",
      "# Files to pack\r\n",
      "# All the files below were used by the program; they will be included in the\r\n",
      "# generated package\r\n",
      "\r\n",
      "# These files come from packages; we can thus choose not to include them, as it\r\n",
      "# will simply be possible to install that package on the destination system\r\n",
      "# They are included anyway by default\r\n",
      "packages:\r\n",
      "  - name: \"coreutils\"\r\n",
      "    version: \"8.28-1ubuntu1\"\r\n",
      "    size: 6717440\r\n",
      "    packfiles: true\r\n",
      "    files:\r\n",
      "      # Total files used: 130.66 KB\r\n",
      "      # Installed package size: 6.41 MB\r\n",
      "      - \"/bin/ls\" # 130.66 KB\r\n",
      "  - name: \"libc6\"\r\n",
      "    version: \"2.27-3ubuntu1.2\"\r\n",
      "    size: 12162048\r\n",
      "    packfiles: true\r\n",
      "    files:\r\n",
      "      # Total files used: 2.25 MB\r\n",
      "      # Installed package size: 11.60 MB\r\n",
      "      - \"/lib/x86_64-linux-gnu/ld-2.27.so\" # 166.95 KB\r\n",
      "      - \"/lib/x86_64-linux-gnu/libc-2.27.so\" # 1.94 MB\r\n",
      "      - \"/lib/x86_64-linux-gnu/libc.so.6\" # Link to /lib/x86_64-linux-gnu/libc-2.27.so\r\n",
      "      - \"/lib/x86_64-linux-gnu/libdl-2.27.so\" # 14.22 KB\r\n",
      "      - \"/lib/x86_64-linux-gnu/libdl.so.2\" # Link to /lib/x86_64-linux-gnu/libdl-2.27.so\r\n",
      "      - \"/lib/x86_64-linux-gnu/libpthread-2.27.so\" # 141.58 KB\r\n",
      "      - \"/lib/x86_64-linux-gnu/libpthread.so.0\" # Link to /lib/x86_64-linux-gnu/libpthread-2.27.so\r\n",
      "  - name: \"libpcre3\"\r\n",
      "    version: \"2:8.39-9\"\r\n",
      "    size: 680960\r\n",
      "    packfiles: true\r\n",
      "    files:\r\n",
      "      # Total files used: 453.93 KB\r\n",
      "      # Installed package size: 665.00 KB\r\n",
      "      - \"/lib/x86_64-linux-gnu/libpcre.so.3\" # Link to /lib/x86_64-linux-gnu/libpcre.so.3.13.3\r\n",
      "      - \"/lib/x86_64-linux-gnu/libpcre.so.3.13.3\" # 453.93 KB\r\n",
      "  - name: \"libselinux1\"\r\n",
      "    version: \"2.7-2build2\"\r\n",
      "    size: 197632\r\n",
      "    packfiles: true\r\n",
      "    files:\r\n",
      "      # Total files used: 151.20 KB\r\n",
      "      # Installed package size: 193.00 KB\r\n",
      "      - \"/lib/x86_64-linux-gnu/libselinux.so.1\" # 151.20 KB\r\n",
      "\r\n",
      "# These files do not appear to come with an installed package -- you probably\r\n",
      "# want them packed\r\n",
      "other_files:\r\n",
      "  - \"/etc/ld.so.cache\" # 33.08 KB\r\n",
      "  - \"/home/andy\" # Directory\r\n",
      "  - \"/lib64/ld-linux-x86-64.so.2\" # Link to /lib/x86_64-linux-gnu/ld-2.27.so\r\n",
      "  - \"/usr/lib/locale/locale-archive\" # 1.61 MB\r\n",
      "\r\n",
      "# If you want to include additional files in the pack, you can list additional\r\n",
      "# patterns of files that will be included\r\n",
      "additional_patterns:\r\n",
      "# Example:\r\n",
      "#  - /etc/apache2/**  # Everything under apache2/\r\n",
      "#  - /var/log/apache2/*.log  # Log files directly under apache2/\r\n",
      "#  - /var/lib/lxc/*/rootfs/home/**/*.py  # All Python files of all users in\r\n",
      "#    # that container\r\n"
     ]
    }
   ],
   "source": [
    "!cat .reprozip-trace/config.yml"
   ]
  },
  {
   "cell_type": "code",
   "execution_count": 18,
   "metadata": {},
   "outputs": [],
   "source": [
    "!reprozip pack ls.rpz"
   ]
  },
  {
   "cell_type": "code",
   "execution_count": 19,
   "metadata": {},
   "outputs": [
    {
     "name": "stdout",
     "output_type": "stream",
     "text": [
      "ls.rpz: POSIX tar archive (GNU)\r\n"
     ]
    }
   ],
   "source": [
    "!file ls.rpz"
   ]
  },
  {
   "cell_type": "code",
   "execution_count": 26,
   "metadata": {},
   "outputs": [],
   "source": [
    "!reprounzip graph out.dot ls.rpz"
   ]
  },
  {
   "cell_type": "code",
   "execution_count": 27,
   "metadata": {},
   "outputs": [
    {
     "name": "stdout",
     "output_type": "stream",
     "text": [
      "total 3380\r\n",
      "-rw-r--r-- 1 andy andy   10553 Nov  2 12:18 'Getting Started with ReproZip.ipynb'\r\n",
      "-rw-r--r-- 1 andy andy    1641 Nov  2 12:17  out.dot\r\n",
      "-rw-r--r-- 1 andy andy 1720320 Nov  2 12:15  ls.rpz\r\n",
      "-rw-r--r-- 1 andy andy 1720320 Nov  2 12:13  test.rpz\r\n",
      "-rw-r--r-- 1 andy andy      17 Nov  2 12:09  requirements.txt\r\n"
     ]
    }
   ],
   "source": [
    "!ls -lct"
   ]
  },
  {
   "cell_type": "code",
   "execution_count": 28,
   "metadata": {},
   "outputs": [
    {
     "name": "stdout",
     "output_type": "stream",
     "text": [
      "out.dot: ASCII text\r\n"
     ]
    }
   ],
   "source": [
    "!file out.dot"
   ]
  },
  {
   "cell_type": "code",
   "execution_count": 29,
   "metadata": {},
   "outputs": [
    {
     "name": "stdout",
     "output_type": "stream",
     "text": [
      "digraph G {\r\n",
      "    rankdir=LR;\r\n",
      "\r\n",
      "    /* programs */\r\n",
      "    node [shape=box fontcolor=white fillcolor=black style=\"filled,rounded\"];\r\n",
      "    subgraph cluster_run0 {\r\n",
      "        label=\"run0\";\r\n",
      "        prog0 [label=\"/bin/ls (1)\"];\r\n",
      "    }\r\n",
      "\r\n",
      "    node [shape=ellipse fontcolor=\"#131C39\" fillcolor=\"#C9D2ED\"];\r\n",
      "\r\n",
      "    /* system packages */\r\n",
      "    subgraph cluster_pkg0 {\r\n",
      "        label=\"coreutils 8.28-1ubuntu1\";\r\n",
      "        \"/bin/ls\";\r\n",
      "    }\r\n",
      "    subgraph cluster_pkg1 {\r\n",
      "        label=\"libc6 2.27-3ubuntu1.2\";\r\n",
      "        \"/lib/x86_64-linux-gnu/ld-2.27.so\";\r\n",
      "        \"/lib/x86_64-linux-gnu/libc.so.6\";\r\n",
      "        \"/lib/x86_64-linux-gnu/libdl.so.2\";\r\n",
      "        \"/lib/x86_64-linux-gnu/libpthread.so.0\";\r\n",
      "    }\r\n",
      "    subgraph cluster_pkg2 {\r\n",
      "        label=\"libpcre3 2:8.39-9\";\r\n",
      "        \"/lib/x86_64-linux-gnu/libpcre.so.3\";\r\n",
      "    }\r\n",
      "    subgraph cluster_pkg3 {\r\n",
      "        label=\"libselinux1 2.7-2build2\";\r\n",
      "        \"/lib/x86_64-linux-gnu/libselinux.so.1\";\r\n",
      "    }\r\n",
      "\r\n",
      "    /* other files */\r\n",
      "    \"/etc/ld.so.cache\";\r\n",
      "    \"/proc/filesystems\";\r\n",
      "    \"/usr/lib/locale/locale-archive\";\r\n",
      "\r\n",
      "    \"/bin/ls\" -> prog0 [style=bold, label=\"ls\"];\r\n",
      "    \"/lib/x86_64-linux-gnu/ld-2.27.so\" -> prog0 [color=\"#8888CC\"];\r\n",
      "    \"/etc/ld.so.cache\" -> prog0 [color=\"#8888CC\"];\r\n",
      "    \"/lib/x86_64-linux-gnu/libselinux.so.1\" -> prog0 [color=\"#8888CC\"];\r\n",
      "    \"/lib/x86_64-linux-gnu/libc.so.6\" -> prog0 [color=\"#8888CC\"];\r\n",
      "    \"/lib/x86_64-linux-gnu/libpcre.so.3\" -> prog0 [color=\"#8888CC\"];\r\n",
      "    \"/lib/x86_64-linux-gnu/libdl.so.2\" -> prog0 [color=\"#8888CC\"];\r\n",
      "    \"/lib/x86_64-linux-gnu/libpthread.so.0\" -> prog0 [color=\"#8888CC\"];\r\n",
      "    \"/proc/filesystems\" -> prog0 [color=\"#8888CC\"];\r\n",
      "    \"/usr/lib/locale/locale-archive\" -> prog0 [color=\"#8888CC\"];\r\n",
      "}\r\n"
     ]
    }
   ],
   "source": [
    "!cat out.dot"
   ]
  },
  {
   "cell_type": "code",
   "execution_count": null,
   "metadata": {},
   "outputs": [],
   "source": []
  }
 ],
 "metadata": {
  "kernelspec": {
   "display_name": "Python 3",
   "language": "python",
   "name": "python3"
  },
  "language_info": {
   "codemirror_mode": {
    "name": "ipython",
    "version": 3
   },
   "file_extension": ".py",
   "mimetype": "text/x-python",
   "name": "python",
   "nbconvert_exporter": "python",
   "pygments_lexer": "ipython3",
   "version": "3.7.6"
  }
 },
 "nbformat": 4,
 "nbformat_minor": 4
}
